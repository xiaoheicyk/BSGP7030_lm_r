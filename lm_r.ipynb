{
 "cells": [
  {
   "cell_type": "markdown",
   "id": "7752e2e2-75c7-4c15-bd91-f207c5e39e06",
   "metadata": {},
   "source": [
    "<font size=\"6\"> Linear Model on R</font>"
   ]
  },
  {
   "cell_type": "markdown",
   "id": "d9b26e78-25a9-431c-bcdf-84bb5466258d",
   "metadata": {},
   "source": [
    "<font size=\"4\"> 1. Exploration on Data</font>"
   ]
  },
  {
   "cell_type": "code",
   "execution_count": 7,
   "id": "dbf18043-8119-4540-b471-527cb6f65288",
   "metadata": {},
   "outputs": [],
   "source": [
    "library(tidyverse)\n",
    "library(reshape2)"
   ]
  },
  {
   "cell_type": "code",
   "execution_count": 16,
   "id": "76506da7-950e-4639-94c6-ae97cda94ae3",
   "metadata": {},
   "outputs": [
    {
     "data": {
      "text/html": [
       "<table class=\"dataframe\">\n",
       "<caption>A data.frame: 6 × 2</caption>\n",
       "<thead>\n",
       "\t<tr><th></th><th scope=col>y</th><th scope=col>x</th></tr>\n",
       "\t<tr><th></th><th scope=col>&lt;dbl&gt;</th><th scope=col>&lt;dbl&gt;</th></tr>\n",
       "</thead>\n",
       "<tbody>\n",
       "\t<tr><th scope=row>1</th><td>6.8102</td><td> 9.8492</td></tr>\n",
       "\t<tr><th scope=row>2</th><td>9.8437</td><td>11.1450</td></tr>\n",
       "\t<tr><th scope=row>3</th><td>4.9767</td><td> 5.1209</td></tr>\n",
       "\t<tr><th scope=row>4</th><td>5.0006</td><td> 8.1085</td></tr>\n",
       "\t<tr><th scope=row>5</th><td>3.5047</td><td> 3.5599</td></tr>\n",
       "\t<tr><th scope=row>6</th><td>3.6419</td><td> 1.9883</td></tr>\n",
       "</tbody>\n",
       "</table>\n"
      ],
      "text/latex": [
       "A data.frame: 6 × 2\n",
       "\\begin{tabular}{r|ll}\n",
       "  & y & x\\\\\n",
       "  & <dbl> & <dbl>\\\\\n",
       "\\hline\n",
       "\t1 & 6.8102 &  9.8492\\\\\n",
       "\t2 & 9.8437 & 11.1450\\\\\n",
       "\t3 & 4.9767 &  5.1209\\\\\n",
       "\t4 & 5.0006 &  8.1085\\\\\n",
       "\t5 & 3.5047 &  3.5599\\\\\n",
       "\t6 & 3.6419 &  1.9883\\\\\n",
       "\\end{tabular}\n"
      ],
      "text/markdown": [
       "\n",
       "A data.frame: 6 × 2\n",
       "\n",
       "| <!--/--> | y &lt;dbl&gt; | x &lt;dbl&gt; |\n",
       "|---|---|---|\n",
       "| 1 | 6.8102 |  9.8492 |\n",
       "| 2 | 9.8437 | 11.1450 |\n",
       "| 3 | 4.9767 |  5.1209 |\n",
       "| 4 | 5.0006 |  8.1085 |\n",
       "| 5 | 3.5047 |  3.5599 |\n",
       "| 6 | 3.6419 |  1.9883 |\n",
       "\n"
      ],
      "text/plain": [
       "  y      x      \n",
       "1 6.8102  9.8492\n",
       "2 9.8437 11.1450\n",
       "3 4.9767  5.1209\n",
       "4 5.0006  8.1085\n",
       "5 3.5047  3.5599\n",
       "6 3.6419  1.9883"
      ]
     },
     "metadata": {},
     "output_type": "display_data"
    }
   ],
   "source": [
    "# Original data\n",
    "df <- read.csv(\"regrex1.csv\")\n",
    "head(df)"
   ]
  },
  {
   "cell_type": "code",
   "execution_count": 9,
   "id": "c9af72de-205a-49d3-8cb4-2c40b8e302aa",
   "metadata": {},
   "outputs": [
    {
     "data": {
      "text/plain": [
       "       y                x          \n",
       " Min.   : 2.281   Min.   : 0.8347  \n",
       " 1st Qu.: 3.830   1st Qu.: 3.6437  \n",
       " Median : 7.006   Median : 9.8750  \n",
       " Mean   : 6.971   Mean   :10.0678  \n",
       " 3rd Qu.: 9.257   3rd Qu.:14.4428  \n",
       " Max.   :15.000   Max.   :25.0000  "
      ]
     },
     "metadata": {},
     "output_type": "display_data"
    }
   ],
   "source": [
    "summary(df)"
   ]
  },
  {
   "cell_type": "code",
   "execution_count": 10,
   "id": "42b47061-bcc2-4d07-9b5b-9842bc7bcd96",
   "metadata": {},
   "outputs": [
    {
     "data": {
      "image/png": "[encoded data removed]",
      "text/plain": [
       "plot without title"
      ]
     },
     "metadata": {
      "image/png": {
       "height": 420,
       "width": 420
      }
     },
     "output_type": "display_data"
    }
   ],
   "source": [
    "# Scatter plot on original data\n",
    "ggplot(mapping = aes(x=df$x,y=df$y)) +\n",
    "  geom_point(colour=\"red\",size=1) +\n",
    "  xlab(\"x\") +\n",
    "  ylab(\"y\") +\n",
    "  ggtitle(\"Scatter plot on orginal data\")"
   ]
  },
  {
   "cell_type": "markdown",
   "id": "a9086e8f-cd79-4770-9e9a-b813b4c5eaea",
   "metadata": {},
   "source": [
    "<font size=\"4\"> 2. Linear Model</font>"
   ]
  },
  {
   "cell_type": "code",
   "execution_count": 11,
   "id": "e54d551b-2660-4b1a-b046-3547bb4a6b9c",
   "metadata": {},
   "outputs": [
    {
     "data": {
      "text/plain": [
       "\n",
       "Call:\n",
       "lm(formula = y ~ x, data = df)\n",
       "\n",
       "Residuals:\n",
       "     Min       1Q   Median       3Q      Max \n",
       "-1.66121 -0.53286 -0.02869  0.50436  2.36786 \n",
       "\n",
       "Coefficients:\n",
       "            Estimate Std. Error t value Pr(>|t|)    \n",
       "(Intercept)  2.24814    0.29365   7.656 2.44e-08 ***\n",
       "x            0.46906    0.02444  19.194  < 2e-16 ***\n",
       "---\n",
       "Signif. codes:  0 ‘***’ 0.001 ‘**’ 0.01 ‘*’ 0.05 ‘.’ 0.1 ‘ ’ 1\n",
       "\n",
       "Residual standard error: 0.8779 on 28 degrees of freedom\n",
       "Multiple R-squared:  0.9294,\tAdjusted R-squared:  0.9268 \n",
       "F-statistic: 368.4 on 1 and 28 DF,  p-value: < 2.2e-16\n"
      ]
     },
     "metadata": {},
     "output_type": "display_data"
    }
   ],
   "source": [
    "model <- lm(y~x,data=df)\n",
    "summary(model)"
   ]
  },
  {
   "cell_type": "code",
   "execution_count": 12,
   "id": "fd70a738-0f69-4815-bec5-e0fcc4f60ad4",
   "metadata": {},
   "outputs": [
    {
     "data": {
      "text/html": [
       "<style>\n",
       ".dl-inline {width: auto; margin:0; padding: 0}\n",
       ".dl-inline>dt, .dl-inline>dd {float: none; width: auto; display: inline-block}\n",
       ".dl-inline>dt::after {content: \":\\0020\"; padding-right: .5ex}\n",
       ".dl-inline>dt:not(:first-of-type) {padding-left: .5ex}\n",
       "</style><dl class=dl-inline><dt>(Intercept)</dt><dd>2.248142773667</dd><dt>x</dt><dd>0.469062282751859</dd></dl>\n"
      ],
      "text/latex": [
       "\\begin{description*}\n",
       "\\item[(Intercept)] 2.248142773667\n",
       "\\item[x] 0.469062282751859\n",
       "\\end{description*}\n"
      ],
      "text/markdown": [
       "(Intercept)\n",
       ":   2.248142773667x\n",
       ":   0.469062282751859\n",
       "\n"
      ],
      "text/plain": [
       "(Intercept)           x \n",
       "  2.2481428   0.4690623 "
      ]
     },
     "metadata": {},
     "output_type": "display_data"
    }
   ],
   "source": [
    "# coefficients\n",
    "coef(model)"
   ]
  },
  {
   "cell_type": "code",
   "execution_count": 13,
   "id": "b5b7918a-254d-4693-b2a0-c5bdf34233a7",
   "metadata": {},
   "outputs": [],
   "source": [
    "# store slope and intercept\n",
    "s <- coef(model)[2]\n",
    "i <- coef(model)[1]"
   ]
  },
  {
   "cell_type": "code",
   "execution_count": null,
   "id": "b062ac98-74d3-40f4-ab07-43d05bbc7a07",
   "metadata": {},
   "outputs": [],
   "source": []
  },
  {
   "cell_type": "markdown",
   "id": "2fbae800-7ff8-4292-b513-b6ebaa885fa4",
   "metadata": {},
   "source": [
    "<font size=\"4\"> 3. Plot Linear Model</font>"
   ]
  },
  {
   "cell_type": "code",
   "execution_count": 17,
   "id": "802f0ee8-5a0d-4fd7-ac1e-31ea3e4a9292",
   "metadata": {},
   "outputs": [
    {
     "data": {
      "text/html": [
       "<table class=\"dataframe\">\n",
       "<caption>A data.frame: 6 × 3</caption>\n",
       "<thead>\n",
       "\t<tr><th></th><th scope=col>original</th><th scope=col>test_x</th><th scope=col>predicted</th></tr>\n",
       "\t<tr><th></th><th scope=col>&lt;dbl&gt;</th><th scope=col>&lt;dbl&gt;</th><th scope=col>&lt;dbl&gt;</th></tr>\n",
       "</thead>\n",
       "<tbody>\n",
       "\t<tr><th scope=row>1</th><td>6.8102</td><td> 9.8492</td><td>6.868031</td></tr>\n",
       "\t<tr><th scope=row>2</th><td>9.8437</td><td>11.1450</td><td>7.475842</td></tr>\n",
       "\t<tr><th scope=row>3</th><td>4.9767</td><td> 5.1209</td><td>4.650164</td></tr>\n",
       "\t<tr><th scope=row>4</th><td>5.0006</td><td> 8.1085</td><td>6.051534</td></tr>\n",
       "\t<tr><th scope=row>5</th><td>3.5047</td><td> 3.5599</td><td>3.917958</td></tr>\n",
       "\t<tr><th scope=row>6</th><td>3.6419</td><td> 1.9883</td><td>3.180779</td></tr>\n",
       "</tbody>\n",
       "</table>\n"
      ],
      "text/latex": [
       "A data.frame: 6 × 3\n",
       "\\begin{tabular}{r|lll}\n",
       "  & original & test\\_x & predicted\\\\\n",
       "  & <dbl> & <dbl> & <dbl>\\\\\n",
       "\\hline\n",
       "\t1 & 6.8102 &  9.8492 & 6.868031\\\\\n",
       "\t2 & 9.8437 & 11.1450 & 7.475842\\\\\n",
       "\t3 & 4.9767 &  5.1209 & 4.650164\\\\\n",
       "\t4 & 5.0006 &  8.1085 & 6.051534\\\\\n",
       "\t5 & 3.5047 &  3.5599 & 3.917958\\\\\n",
       "\t6 & 3.6419 &  1.9883 & 3.180779\\\\\n",
       "\\end{tabular}\n"
      ],
      "text/markdown": [
       "\n",
       "A data.frame: 6 × 3\n",
       "\n",
       "| <!--/--> | original &lt;dbl&gt; | test_x &lt;dbl&gt; | predicted &lt;dbl&gt; |\n",
       "|---|---|---|---|\n",
       "| 1 | 6.8102 |  9.8492 | 6.868031 |\n",
       "| 2 | 9.8437 | 11.1450 | 7.475842 |\n",
       "| 3 | 4.9767 |  5.1209 | 4.650164 |\n",
       "| 4 | 5.0006 |  8.1085 | 6.051534 |\n",
       "| 5 | 3.5047 |  3.5599 | 3.917958 |\n",
       "| 6 | 3.6419 |  1.9883 | 3.180779 |\n",
       "\n"
      ],
      "text/plain": [
       "  original test_x  predicted\n",
       "1 6.8102    9.8492 6.868031 \n",
       "2 9.8437   11.1450 7.475842 \n",
       "3 4.9767    5.1209 4.650164 \n",
       "4 5.0006    8.1085 6.051534 \n",
       "5 3.5047    3.5599 3.917958 \n",
       "6 3.6419    1.9883 3.180779 "
      ]
     },
     "metadata": {},
     "output_type": "display_data"
    }
   ],
   "source": [
    "# combine and rename columns\n",
    "df$fitted <- model$fitted.values\n",
    "names(df) <- c(\"original\",\"test_x\",\"predicted\")\n",
    "head(df)"
   ]
  },
  {
   "cell_type": "code",
   "execution_count": 18,
   "id": "2a0e6a3e-e310-4f42-901f-67976d5219af",
   "metadata": {},
   "outputs": [
    {
     "data": {
      "text/html": [
       "<table class=\"dataframe\">\n",
       "<caption>A data.frame: 6 × 3</caption>\n",
       "<thead>\n",
       "\t<tr><th></th><th scope=col>test_x</th><th scope=col>y_type</th><th scope=col>y_value</th></tr>\n",
       "\t<tr><th></th><th scope=col>&lt;dbl&gt;</th><th scope=col>&lt;fct&gt;</th><th scope=col>&lt;dbl&gt;</th></tr>\n",
       "</thead>\n",
       "<tbody>\n",
       "\t<tr><th scope=row>1</th><td> 9.8492</td><td>original</td><td>6.8102</td></tr>\n",
       "\t<tr><th scope=row>2</th><td>11.1450</td><td>original</td><td>9.8437</td></tr>\n",
       "\t<tr><th scope=row>3</th><td> 5.1209</td><td>original</td><td>4.9767</td></tr>\n",
       "\t<tr><th scope=row>4</th><td> 8.1085</td><td>original</td><td>5.0006</td></tr>\n",
       "\t<tr><th scope=row>5</th><td> 3.5599</td><td>original</td><td>3.5047</td></tr>\n",
       "\t<tr><th scope=row>6</th><td> 1.9883</td><td>original</td><td>3.6419</td></tr>\n",
       "</tbody>\n",
       "</table>\n"
      ],
      "text/latex": [
       "A data.frame: 6 × 3\n",
       "\\begin{tabular}{r|lll}\n",
       "  & test\\_x & y\\_type & y\\_value\\\\\n",
       "  & <dbl> & <fct> & <dbl>\\\\\n",
       "\\hline\n",
       "\t1 &  9.8492 & original & 6.8102\\\\\n",
       "\t2 & 11.1450 & original & 9.8437\\\\\n",
       "\t3 &  5.1209 & original & 4.9767\\\\\n",
       "\t4 &  8.1085 & original & 5.0006\\\\\n",
       "\t5 &  3.5599 & original & 3.5047\\\\\n",
       "\t6 &  1.9883 & original & 3.6419\\\\\n",
       "\\end{tabular}\n"
      ],
      "text/markdown": [
       "\n",
       "A data.frame: 6 × 3\n",
       "\n",
       "| <!--/--> | test_x &lt;dbl&gt; | y_type &lt;fct&gt; | y_value &lt;dbl&gt; |\n",
       "|---|---|---|---|\n",
       "| 1 |  9.8492 | original | 6.8102 |\n",
       "| 2 | 11.1450 | original | 9.8437 |\n",
       "| 3 |  5.1209 | original | 4.9767 |\n",
       "| 4 |  8.1085 | original | 5.0006 |\n",
       "| 5 |  3.5599 | original | 3.5047 |\n",
       "| 6 |  1.9883 | original | 3.6419 |\n",
       "\n"
      ],
      "text/plain": [
       "  test_x  y_type   y_value\n",
       "1  9.8492 original 6.8102 \n",
       "2 11.1450 original 9.8437 \n",
       "3  5.1209 original 4.9767 \n",
       "4  8.1085 original 5.0006 \n",
       "5  3.5599 original 3.5047 \n",
       "6  1.9883 original 3.6419 "
      ]
     },
     "metadata": {},
     "output_type": "display_data"
    }
   ],
   "source": [
    "# melt dataframe \n",
    "dfm <- melt(df,id.var=\"test_x\",variable.name=\"y_type\",value.name = \"y_value\")\n",
    "head(dfm)"
   ]
  },
  {
   "cell_type": "code",
   "execution_count": 21,
   "id": "891add23-0c98-4280-a5ec-826eff5e28ae",
   "metadata": {},
   "outputs": [
    {
     "data": {
      "image/png": "[encoded data removed]",
      "text/plain": [
       "plot without title"
      ]
     },
     "metadata": {
      "image/png": {
       "height": 420,
       "width": 420
      }
     },
     "output_type": "display_data"
    }
   ],
   "source": [
    "ggplot(dfm, aes(x = test_x, y =y_value , shape = y_type, color = y_type))+\n",
    "  geom_point()+\n",
    "  geom_abline(slope = s,intercept = i,colour=\"yellow\")+\n",
    "  scale_color_manual(values = c(\"original\" = '#ff00ff','predicted' = '#3399ff')) + \n",
    "  scale_shape_manual(values = c('original' = 17, 'predicted' = 16))+\n",
    "  ggtitle(\"Scatter Plot and Linear Model\") +\n",
    "  xlab(\"x value\")+\n",
    "  ylab(\"y value\")"
   ]
  },
  {
   "cell_type": "code",
   "execution_count": null,
   "id": "07f51209-91eb-488b-8e51-ceb369220043",
   "metadata": {},
   "outputs": [],
   "source": []
  },
  {
   "cell_type": "code",
   "execution_count": null,
   "id": "001502ce-ad6b-4390-8a11-309bf7920e78",
   "metadata": {},
   "outputs": [],
   "source": []
  },
  {
   "cell_type": "code",
   "execution_count": null,
   "id": "1e6702a8-d0ff-43d7-b877-62254876278f",
   "metadata": {},
   "outputs": [],
   "source": []
  },
  {
   "cell_type": "code",
   "execution_count": null,
   "id": "0619eedf-958d-47df-827d-db58b3398eab",
   "metadata": {},
   "outputs": [],
   "source": []
  }
 ],
 "metadata": {
  "kernelspec": {
   "display_name": "R",
   "language": "R",
   "name": "ir"
  },
  "language_info": {
   "codemirror_mode": "r",
   "file_extension": ".r",
   "mimetype": "text/x-r-source",
   "name": "R",
   "pygments_lexer": "r",
   "version": "4.0.5"
  }
 },
 "nbformat": 4,
 "nbformat_minor": 5
}
